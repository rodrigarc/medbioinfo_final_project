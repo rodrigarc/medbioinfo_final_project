{
 "cells": [
  {
   "cell_type": "markdown",
   "id": "3c2ce95b-f490-4f84-90a2-8de10195157e",
   "metadata": {},
   "source": [
    "## Applied bioinformatics final project\n",
    "\n",
    "\n",
    "### Here we want you to explore whether proteins with a high node-degree in protein interaction networks, also have a larger number of protein domains.\n",
    "\n",
    "To do so you should write a set of instructions and python scripts that:\n",
    "\n",
    "1. Downloads the Homo sapiens part of STRING, a database from protein-protein interactions, from\n",
    "* https://stringdb-static.org/download/protein.links.v11.0/9606.protein.links.v11.0.txt.gz (Links to an external site.)\n",
    "The link above is from their download page.\n",
    "2. Create an interaction network by selecting the edges with a \"combined score\" larger or equal to 500, a number which indicates significance.\n",
    "3. Partition the proteins in two groups, the ones with a node degree larger than 100 and one smaller or equal to 100.\n",
    "4. Download the number of known protein-domains per Ensembl id from:\n",
    "* https://stockholmuniversity.box.com/s/n8l0l1b3tg32wrzg2ensg8dnt7oua8ex\n",
    "This file was exported from Ensembl's BioMart (Links to an external site.) service and contains two columns: Pfam ID (for protein domains) and Ensembl protein ID (which is also used by the string database). Note: some proteins have no protein domain registered.\n",
    "5. Make a boxplot, comparing the number of domains of proteins with node degrees >100 to the ones with node degrees <=100.\n",
    "\n",
    "Create a GitHub repository containing a Makefile so that when we download the project we could run the command\n",
    "```\n",
    "git clone your_repo.git\n",
    "cd your_repo\n",
    "make\n",
    "```\n",
    "to get a file \"protein_domains_vs_string_degree.png\". Your project succeeds if we succeed reproducing the plot!"
   ]
  },
  {
   "cell_type": "code",
   "execution_count": 70,
   "id": "de7dab22-68fc-4106-9c7d-b6ba89e76275",
   "metadata": {},
   "outputs": [],
   "source": [
    "# loading modules\n",
    "\n",
    "%matplotlib inline\n",
    "\n",
    "import pandas as pd\n",
    "import numpy as np\n",
    "import matplotlib.pyplot as plt\n",
    "import seaborn as sns\n",
    "from operator import itemgetter\n",
    "\n",
    "import networkx as nx"
   ]
  },
  {
   "cell_type": "code",
   "execution_count": 13,
   "id": "40531b37-c35d-4d17-a235-b8c0a1216d10",
   "metadata": {},
   "outputs": [],
   "source": [
    "# reading data\n",
    "network_data_frame = pd.read_csv('../data/9606.protein.links.v11.0.txt.gz', compression='gzip',\n",
    "                                  sep=' ')\n",
    "network_data_frame = network_data_frame[network_data_frame['combined_score'] >= 500]\n",
    "\n",
    "protein_domain = pd.read_csv('../data/proteins_w_domains.txt', sep='\\t').rename(columns = {'Pfam ID': 'domain_ID', 'Protein stable ID': 'protein_ID'}, inplace = False)\n"
   ]
  },
  {
   "cell_type": "code",
   "execution_count": 3,
   "id": "2bd91532-0a67-42fe-9340-4aabfbde9a5b",
   "metadata": {},
   "outputs": [],
   "source": [
    "# generating network data\n",
    "network = nx.from_pandas_edgelist(network_data_frame, source = 'protein1', target = 'protein2')"
   ]
  },
  {
   "cell_type": "code",
   "execution_count": 19,
   "id": "465c84c7-bb40-4def-9765-386238e7756c",
   "metadata": {},
   "outputs": [],
   "source": [
    "def grouping_by_degree(network):\n",
    "    \"\"\"funtion to separed a network between larger or smaller than 100 node degrees and return \n",
    "    a data_frame with their names\n",
    "    \"\"\"\n",
    "    degree_dict = dict(network.degree(network.nodes()))\n",
    "    nx.set_node_attributes(network, degree_dict, 'degree')\n",
    "    sorted_degree = sorted(degree_dict.items(), key=itemgetter(1), reverse=True)\n",
    "    df_group = pd.DataFrame(columns=['node_degree', 'protein_ID', 'degree_value']) \n",
    "\n",
    "    for key, value in degree_dict.items():\n",
    "        key = key.replace('9606.','')\n",
    "        if value > 100:\n",
    "            df_group = df_group.append({'node_degree' : 'larger_100', 'protein_ID' : key, 'degree_value' : value}, ignore_index=True)\n",
    "        else:\n",
    "            df_group = df_group.append({'node_degree' : 'smaller_100', 'protein_ID' : key, 'degree_value' : value}, ignore_index=True)\n",
    "    \n",
    "    return df_group\n",
    "\n",
    "grouped_by_degree = grouping_by_degree(network)"
   ]
  },
  {
   "cell_type": "code",
   "execution_count": 87,
   "id": "732e4d1e-4286-4b6c-871d-a29ca230e9cd",
   "metadata": {},
   "outputs": [],
   "source": [
    "# merging dataframes\n",
    "\n",
    "prot_degree_domain = pd.merge(grouped_by_degree, protein_domain.dropna(), on = 'protein_ID')\n",
    "\n",
    "prot_domain_count = prot_degree_domain.groupby(['protein_ID','node_degree','degree_value']).count().reset_index()"
   ]
  },
  {
   "cell_type": "code",
   "execution_count": 91,
   "id": "b46e14e6-f222-4f6e-9630-2ef0c86afece",
   "metadata": {},
   "outputs": [
    {
     "data": {
      "image/png": "[encoded data removed]",
      "text/plain": [
       "<Figure size 432x288 with 1 Axes>"
      ]
     },
     "metadata": {
      "needs_background": "light"
     },
     "output_type": "display_data"
    }
   ],
   "source": [
    "# plotting\n",
    "def plotting_degre_x_domains(dataframe): \n",
    "    plot = sns.boxplot(y = 'domain_ID', x = 'node_degree', data = dataframe)\n",
    "    plt.xlabel('Node degree')\n",
    "    plt.ylabel('# protein domains')\n",
    "    plot.set(yscale=\"log\")\n",
    "    plt.savefig('../results/protein_intereactions-domains.png')\n",
    "    \n",
    "plotting_degre_x_domains(prot_domain_count)"
   ]
  },
  {
   "cell_type": "code",
   "execution_count": 103,
   "id": "b9fce614-f325-4163-af18-c0e696807acd",
   "metadata": {},
   "outputs": [],
   "source": [
    "def basic_statistics(dataframe, file_output):\n",
    "    \"\"\"\n",
    "    Basic statistics groupped by larger than 100 node degrees and less or equal than 100 node degree \n",
    "    and saved as csv on the results folder\n",
    "    \"\"\"\n",
    "    stats_by_node = dataframe.groupby('node_degree').describe()\n",
    "    stats_by_node.to_csv(file_output)\n",
    "    \n",
    "\n",
    "basic_statistics(prot_domain_count, '../results/basic_statistics.csv')\n"
   ]
  }
 ],
 "metadata": {
  "kernelspec": {
   "display_name": "Python 3",
   "language": "python",
   "name": "python3"
  },
  "language_info": {
   "codemirror_mode": {
    "name": "ipython",
    "version": 3
   },
   "file_extension": ".py",
   "mimetype": "text/x-python",
   "name": "python",
   "nbconvert_exporter": "python",
   "pygments_lexer": "ipython3",
   "version": "3.8.8"
  }
 },
 "nbformat": 4,
 "nbformat_minor": 5
}
